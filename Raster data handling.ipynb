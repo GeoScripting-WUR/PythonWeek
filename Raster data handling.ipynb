{
 "metadata": {
  "kernelspec": {
   "display_name": "Python 2",
   "language": "python",
   "name": "python2"
  },
  "language_info": {
   "codemirror_mode": {
    "name": "ipython",
    "version": 2
   },
   "file_extension": ".py",
   "mimetype": "text/x-python",
   "name": "python",
   "nbconvert_exporter": "python",
   "pygments_lexer": "ipython2",
   "version": "2.7.5"
  },
  "name": "",
  "signature": "sha256:9c40a90d3fa99d8b4e1681ebe629c852ed5f76fa6f9e3556ea051d4302d4ce89"
 },
 "nbformat": 3,
 "nbformat_minor": 0,
 "worksheets": [
  {
   "cells": [
    {
     "cell_type": "markdown",
     "metadata": {},
     "source": [
      "### [WUR GRS-51806 Geoscripting](https://geoscripting-wur.github.io/)<img src='http://www.wageningenur.nl/upload/f9a0b5f2-15c5-4b84-9e14-20ef02f5e265_wur-logo.png' align=\"right\">\n",
      "# Week 3 (Python): Raster handling with Python"
     ]
    },
    {
     "cell_type": "heading",
     "level": 2,
     "metadata": {},
     "source": [
      "Python modules for raster data handling"
     ]
    },
    {
     "cell_type": "markdown",
     "metadata": {},
     "source": [
      "The modules used below are:\n",
      "\n",
      "* ***`gdal`***: bindings to the GDAL library which is part of the osgeo library\n",
      "* `numpy` for array calculations.\n",
      "\n",
      "These two libraries are the base of all raster processing in python!\n",
      "\n",
      "There are additional libraries that offer wrapper functions for `gdal` and provide additional raster procssesing functionality:\n",
      "* mapbox [`rasterio`](https://github.com/mapbox/rasterio), see a [NDVI tutorial](http://www.loicdutrieux.com/pyLandsat/NDVI_calc.html)\n",
      "* [`rios`](http://rioshome.org/), a set of Python modules which makes it easy to write raster processing code in Python\n",
      "\n",
      "Many important processing methods are availbale through additional libraries:\n",
      "* python interface for Orfeo toolbox (`otb`), e.g. segmentation\n",
      "* `rsgislib` e.g. segmentation\n",
      "* `scikit-image` for image interpretation\n",
      "* `scikit-learn` for machine learning"
     ]
    },
    {
     "cell_type": "heading",
     "level": 2,
     "metadata": {},
     "source": [
      "Data"
     ]
    },
    {
     "cell_type": "markdown",
     "metadata": {},
     "source": [
      "In the below example we will use a Aster image which you can download from the following [dropbox](https://www.dropbox.com/s/rsc4lzkd3t2adq5/ospy_data5.zip?dl=0). The data is also available [here](http://www.gis.usu.edu/~chrisg/python/2009/lectures/ospy_data4.zip). "
     ]
    },
    {
     "cell_type": "heading",
     "level": 2,
     "metadata": {},
     "source": [
      "Reading, deriving NDVI, and writing raster data"
     ]
    },
    {
     "cell_type": "markdown",
     "metadata": {},
     "source": [
      "Let's get started and we will go through the following steps:\n",
      "\n",
      "* Open the Aster image (ERDAS *.img format)\n",
      "* Read in the image data as an array\n",
      "* Derive the NDVI using array calculations\n",
      "* Write the resulting file as a *.tif (i.e. GeoTIFF file)\n",
      "* Close all files"
     ]
    },
    {
     "cell_type": "code",
     "collapsed": false,
     "input": [
      "# import modules\n",
      "from osgeo import gdal\n",
      "from osgeo.gdalconst import GA_ReadOnly, GDT_Float32\n",
      "import numpy as np\n",
      "\n",
      "# open file and print info about the file\n",
      "# the \"../\" refers to the parent directory of my working directory\n",
      "\n",
      "filename = '../data/ospy_data5/aster.img'\n",
      "dataSource = gdal.Open(filename, GA_ReadOnly)\n",
      "\n",
      "print \"\\nInformation about \" + filename \n",
      "print \"Driver: \", dataSource.GetDriver().ShortName,\"/\", \\\n",
      "      dataSource.GetDriver().LongName\n",
      "print \"Size is \",dataSource.RasterXSize,\"x\",dataSource.RasterYSize, \\\n",
      "      'x',dataSource.RasterCount\n",
      "\n",
      "print '\\nProjection is: ', dataSource.GetProjection()\n",
      "\n",
      "print \"\\nInformation about the location of the image and the pixel size:\"\n",
      "geotransform = dataSource.GetGeoTransform()\n",
      "if not geotransform is None:\n",
      "    print 'Origin = (',geotransform[0], ',',geotransform[3],')'\n",
      "    print 'Pixel Size = (',geotransform[1], ',',geotransform[5],')'\n"
     ],
     "language": "python",
     "metadata": {},
     "outputs": [
      {
       "output_type": "stream",
       "stream": "stdout",
       "text": [
        "\n",
        "Information about ../data/ospy_data5/aster.img\n",
        "Driver:  HFA / Erdas Imagine Images (.img)\n",
        "Size is  5665 x 5033 x 3\n",
        "\n",
        "Projection is:  PROJCS[\"UTM Zone 12, Northern Hemisphere\",GEOGCS[\"WGS 84\",DATUM[\"WGS_1984\",SPHEROID[\"WGS 84\",6378137,298.257223563,AUTHORITY[\"EPSG\",\"7030\"]],TOWGS84[0,0,0,0,0,0,0],AUTHORITY[\"EPSG\",\"6326\"]],PRIMEM[\"Greenwich\",0,AUTHORITY[\"EPSG\",\"8901\"]],UNIT[\"degree\",0.0174532925199433,AUTHORITY[\"EPSG\",\"9122\"]],AUTHORITY[\"EPSG\",\"4326\"]],PROJECTION[\"Transverse_Mercator\"],PARAMETER[\"latitude_of_origin\",0],PARAMETER[\"central_meridian\",-111],PARAMETER[\"scale_factor\",0.9996],PARAMETER[\"false_easting\",500000],PARAMETER[\"false_northing\",0],UNIT[\"Meter\",1],AUTHORITY[\"EPSG\",\"32612\"]]\n",
        "\n",
        "Information about the location of the image and the pixel size:\n",
        "Origin = ( 419976.5 , 4662422.5 )\n",
        "Pixel Size = ( 15.0 , -15.0 )\n"
       ]
      }
     ],
     "prompt_number": 1
    },
    {
     "cell_type": "code",
     "collapsed": false,
     "input": [
      "# Read data into an array\n",
      "band2Arr = dataSource.GetRasterBand(2).ReadAsArray(0,0,dataSource.RasterXSize, dataSource.RasterYSize)\n",
      "band3Arr = dataSource.GetRasterBand(3).ReadAsArray(0,0,dataSource.RasterXSize, dataSource.RasterYSize)\n",
      "print type(band2Arr)\n",
      "                                                   \n",
      "\n",
      "# set the data type\n",
      "band2Arr=band2Arr.astype(np.float32)\n",
      "band3Arr=band3Arr.astype(np.float32)\n",
      "\n",
      "# Derive the NDVI\n",
      "mask = np.greater(band3Arr+band2Arr,0)\n",
      "\n",
      "# set np.errstate to avoid warning of invalid values (i.e. NaN values) in the divide \n",
      "with np.errstate(invalid='ignore'):\n",
      "    ndvi = np.choose(mask,(-99,(band3Arr-band2Arr)/(band3Arr+band2Arr)))\n",
      "print \"NDVI min and max values\", ndvi.min(), ndvi.max()\n",
      "# Check the real minimum value\n",
      "print ndvi[ndvi>-99].min()"
     ],
     "language": "python",
     "metadata": {},
     "outputs": [
      {
       "output_type": "stream",
       "stream": "stdout",
       "text": [
        "<type 'numpy.ndarray'>\n",
        "NDVI min and max values"
       ]
      },
      {
       "output_type": "stream",
       "stream": "stdout",
       "text": [
        " -99.0 1.0\n",
        "-1.0"
       ]
      },
      {
       "output_type": "stream",
       "stream": "stdout",
       "text": [
        "\n"
       ]
      }
     ],
     "prompt_number": 2
    },
    {
     "cell_type": "code",
     "collapsed": false,
     "input": [
      "# Write the result to disk\n",
      "driver = gdal.GetDriverByName('GTiff')\n",
      "outDataSet=driver.Create('../data/ndvi.tif', dataSource.RasterXSize, dataSource.RasterYSize, 1, GDT_Float32)\n",
      "outBand = outDataSet.GetRasterBand(1)\n",
      "outBand.WriteArray(ndvi,0,0)\n",
      "outBand.SetNoDataValue(-99)\n",
      "\n",
      "# set the projection and extent information of the dataset\n",
      "outDataSet.SetProjection(dataSource.GetProjection())\n",
      "outDataSet.SetGeoTransform(dataSource.GetGeoTransform())\n",
      "\n",
      "\n",
      "# Finally let's save it... or like in the OGR example flush it\n",
      "outBand.FlushCache()\n",
      "outDataSet.FlushCache()"
     ],
     "language": "python",
     "metadata": {},
     "outputs": [],
     "prompt_number": 3
    },
    {
     "cell_type": "markdown",
     "metadata": {},
     "source": [
      "Let's check the resulting file via *Bash* (all commands in the current document with a **!** in front are run via the system shell, which is *Bash*). Below we call the `gdalinfo` command of the **GDAL** C++ library directly. If you want to learn more about `gdalinfo` go to: http://www.gdal.org/gdalinfo.html"
     ]
    },
    {
     "cell_type": "code",
     "collapsed": false,
     "input": [
      "!gdalinfo ../data/ndvi.tif"
     ],
     "language": "python",
     "metadata": {},
     "outputs": [
      {
       "output_type": "stream",
       "stream": "stdout",
       "text": [
        "Driver: GTiff/GeoTIFF\r\n",
        "Files: ../data/ndvi.tif\r\n",
        "Size is 5665, 5033\r\n",
        "Coordinate System is:\r\n",
        "PROJCS[\"WGS 84 / UTM zone 12N\",\r\n",
        "    GEOGCS[\"WGS 84\",\r\n",
        "        DATUM[\"WGS_1984\",\r\n",
        "            SPHEROID[\"WGS 84\",6378137,298.257223563,\r\n",
        "                AUTHORITY[\"EPSG\",\"7030\"]],\r\n",
        "            AUTHORITY[\"EPSG\",\"6326\"]],\r\n",
        "        PRIMEM[\"Greenwich\",0,\r\n",
        "            AUTHORITY[\"EPSG\",\"8901\"]],\r\n",
        "        UNIT[\"degree\",0.0174532925199433,\r\n",
        "            AUTHORITY[\"EPSG\",\"9122\"]],\r\n",
        "        AUTHORITY[\"EPSG\",\"4326\"]],\r\n",
        "    PROJECTION[\"Transverse_Mercator\"],\r\n",
        "    PARAMETER[\"latitude_of_origin\",0],\r\n",
        "    PARAMETER[\"central_meridian\",-111],\r\n",
        "    PARAMETER[\"scale_factor\",0.9996],\r\n",
        "    PARAMETER[\"false_easting\",500000],\r\n",
        "    PARAMETER[\"false_northing\",0],\r\n",
        "    UNIT[\"metre\",1,\r\n",
        "        AUTHORITY[\"EPSG\",\"9001\"]],\r\n",
        "    AXIS[\"Easting\",EAST],\r\n",
        "    AXIS[\"Northing\",NORTH],\r\n",
        "    AUTHORITY[\"EPSG\",\"32612\"]]\r\n",
        "Origin = (419976.500000000000000,4662422.500000000000000)\r\n",
        "Pixel Size = (15.000000000000000,-15.000000000000000)\r\n",
        "Metadata:\r\n",
        "  AREA_OR_POINT=Area\r\n",
        "Image Structure Metadata:\r\n",
        "  INTERLEAVE=BAND\r\n"
       ]
      },
      {
       "output_type": "stream",
       "stream": "stdout",
       "text": [
        "Corner Coordinates:\r\n",
        "Upper Left  (  419976.500, 4662422.500) (111d58' 4.52\"W, 42d 6'35.34\"N)\r\n",
        "Lower Left  (  419976.500, 4586927.500) (111d57'27.92\"W, 41d25'47.74\"N)\r\n",
        "Upper Right (  504951.500, 4662422.500) (110d56'24.38\"W, 42d 6'49.98\"N)\r\n",
        "Lower Right (  504951.500, 4586927.500) (110d56'26.64\"W, 41d26' 2.04\"N)\r\n",
        "Center      (  462464.000, 4624675.000) (111d27' 5.89\"W, 41d46'22.91\"N)\r\n",
        "Band 1 Block=5665x1 Type=Float32, ColorInterp=Gray\r\n",
        "  NoData Value=-99\r\n"
       ]
      }
     ],
     "prompt_number": 4
    },
    {
     "cell_type": "markdown",
     "metadata": {},
     "source": [
      "Important here is that the `gdalinfo` contains information about the projection  (via `SetProjection`) and also about the corner coordinates (via `SetGeoTransform`)."
     ]
    },
    {
     "cell_type": "heading",
     "level": 2,
     "metadata": {},
     "source": [
      "Reproject the NDVI image to Lat/long"
     ]
    },
    {
     "cell_type": "markdown",
     "metadata": {},
     "source": [
      "Reprojecting a raster image can be done by\n",
      "\n",
      "* calling the `gdalwarp` function of the **GDAL C++** library directly\n",
      "* using `Python` and the `gdal` module\n",
      "\n",
      "### Using `gdalwarp`\n",
      "\n",
      "The easiest way to reproject a raster file is to use GDAL's [gdalwarp](http://www.gdal.org/gdalwarp.html) tool. As an example, we will reproject the above NDVI image derived earlier into latitude/longitude (WGS84).\n",
      "\n",
      "* `-t_srs \"EPSG:4326\"` is the CRS to reproject **to**, i.e. lat/long, know by its [EPSG code](http://spatialreference.org/ref/epsg/4326/). The CRS to reproject **from** is already specified in the source data set, see above.\n",
      "* `data/ndvi.tif` is the **input** dataset.\n",
      "* `data/ndvi_ll.ti`f is the **output** dataset (the output format is here automatically set by the extension i.e. GeoTIFF).\n",
      "\n",
      "> **Question 1**: What is the CRS the image will be reprojected **from**?"
     ]
    },
    {
     "cell_type": "code",
     "collapsed": false,
     "input": [
      "# via the Shell\n",
      "!gdalwarp -t_srs \"EPSG:4326\" ../data/ndvi.tif ../data/ndvi_ll.tif"
     ],
     "language": "python",
     "metadata": {},
     "outputs": [
      {
       "output_type": "stream",
       "stream": "stdout",
       "text": [
        "Creating output file that is 6334P x 4215L.\r\n",
        "Processing input file ../data/ndvi.tif.\r\n",
        "Using internal nodata values (e.g. -99) for image ../data/ndvi.tif.\r\n",
        "Copying nodata values from source ../data/ndvi.tif to destination ../data/ndvi_ll.tif.\r\n"
       ]
      },
      {
       "output_type": "stream",
       "stream": "stdout",
       "text": [
        "0"
       ]
      },
      {
       "output_type": "stream",
       "stream": "stdout",
       "text": [
        "."
       ]
      },
      {
       "output_type": "stream",
       "stream": "stdout",
       "text": [
        "."
       ]
      },
      {
       "output_type": "stream",
       "stream": "stdout",
       "text": [
        "."
       ]
      },
      {
       "output_type": "stream",
       "stream": "stdout",
       "text": [
        "10"
       ]
      },
      {
       "output_type": "stream",
       "stream": "stdout",
       "text": [
        ".."
       ]
      },
      {
       "output_type": "stream",
       "stream": "stdout",
       "text": [
        "."
       ]
      },
      {
       "output_type": "stream",
       "stream": "stdout",
       "text": [
        "20"
       ]
      },
      {
       "output_type": "stream",
       "stream": "stdout",
       "text": [
        "."
       ]
      },
      {
       "output_type": "stream",
       "stream": "stdout",
       "text": [
        "."
       ]
      },
      {
       "output_type": "stream",
       "stream": "stdout",
       "text": [
        ".30."
       ]
      },
      {
       "output_type": "stream",
       "stream": "stdout",
       "text": [
        ".."
       ]
      },
      {
       "output_type": "stream",
       "stream": "stdout",
       "text": [
        "40.."
       ]
      },
      {
       "output_type": "stream",
       "stream": "stdout",
       "text": [
        "."
       ]
      },
      {
       "output_type": "stream",
       "stream": "stdout",
       "text": [
        "50"
       ]
      },
      {
       "output_type": "stream",
       "stream": "stdout",
       "text": [
        "..."
       ]
      },
      {
       "output_type": "stream",
       "stream": "stdout",
       "text": [
        "60."
       ]
      },
      {
       "output_type": "stream",
       "stream": "stdout",
       "text": [
        "..70"
       ]
      },
      {
       "output_type": "stream",
       "stream": "stdout",
       "text": [
        "."
       ]
      },
      {
       "output_type": "stream",
       "stream": "stdout",
       "text": [
        ".."
       ]
      },
      {
       "output_type": "stream",
       "stream": "stdout",
       "text": [
        "80"
       ]
      },
      {
       "output_type": "stream",
       "stream": "stdout",
       "text": [
        "."
       ]
      },
      {
       "output_type": "stream",
       "stream": "stdout",
       "text": [
        ".."
       ]
      },
      {
       "output_type": "stream",
       "stream": "stdout",
       "text": [
        "90"
       ]
      },
      {
       "output_type": "stream",
       "stream": "stdout",
       "text": [
        "."
       ]
      },
      {
       "output_type": "stream",
       "stream": "stdout",
       "text": [
        ".."
       ]
      },
      {
       "output_type": "stream",
       "stream": "stdout",
       "text": [
        "100 - done.\r\n"
       ]
      }
     ],
     "prompt_number": 5
    },
    {
     "cell_type": "code",
     "collapsed": false,
     "input": [
      "# Let's check what the result is\n",
      "!gdalinfo ../data/ndvi_ll.tif"
     ],
     "language": "python",
     "metadata": {},
     "outputs": [
      {
       "output_type": "stream",
       "stream": "stdout",
       "text": [
        "Driver: GTiff/GeoTIFF\r\n",
        "Files: ../data/ndvi_ll.tif\r\n",
        "Size is 6334, 4215\r\n",
        "Coordinate System is:\r\n",
        "GEOGCS[\"WGS 84\",\r\n",
        "    DATUM[\"WGS_1984\",\r\n",
        "        SPHEROID[\"WGS 84\",6378137,298.257223563,\r\n",
        "            AUTHORITY[\"EPSG\",\"7030\"]],\r\n",
        "        AUTHORITY[\"EPSG\",\"6326\"]],\r\n",
        "    PRIMEM[\"Greenwich\",0],\r\n",
        "    UNIT[\"degree\",0.0174532925199433],\r\n",
        "    AUTHORITY[\"EPSG\",\"4326\"]]\r\n",
        "Origin = (-111.967923047226890,42.113899650752344)\r\n",
        "Pixel Size = (0.000162266608994,-0.000162266608994)\r\n",
        "Metadata:\r\n",
        "  AREA_OR_POINT=Area\r\n",
        "Image Structure Metadata:\r\n",
        "  INTERLEAVE=BAND\r\n",
        "Corner Coordinates:\r\n",
        "Upper Left  (-111.9679230,  42.1138997) (111d58' 4.52\"W, 42d 6'50.04\"N)\r\n",
        "Lower Left  (-111.9679230,  41.4299459) (111d58' 4.52\"W, 41d25'47.81\"N)\r\n",
        "Upper Right (-110.9401263,  42.1138997) (110d56'24.45\"W, 42d 6'50.04\"N)\r\n",
        "Lower Right (-110.9401263,  41.4299459) (110d56'24.45\"W, 41d25'47.81\"N)\r\n",
        "Center      (-111.4540247,  41.7719228) (111d27'14.49\"W, 41d46'18.92\"N)\r\n",
        "Band 1 Block=6334x1 Type=Float32, ColorInterp=Gray\r\n",
        "  NoData Value=-99\r\n"
       ]
      }
     ],
     "prompt_number": 6
    },
    {
     "cell_type": "markdown",
     "metadata": {},
     "source": [
      "To reproject a raster from within Python is not as straight-forward... Have a look at the following links, and use the internet to find a way!\n",
      "\n",
      "- The function defined by Prof. P. Lewis (see here [for more information](http://nbviewer.ipython.org/github/profLewis/geogg122/blob/master/Chapter4_GDAL/GDAL_Python_bindings.ipynb)). \n",
      "- Core GDALDataset Class reference info (see [GeoTransFrom Info](http://www.gdal.org/classGDALDataset.html#a0fe0f81d65d84557b5d71ddc024faa02). For a relevant question and example on GIS Stack Exchange ([see](https://gis.stackexchange.com/questions/24055/raster-data-array-output-flipped-on-x-axis-using-python-gdal)).\n",
      "- [GIS Stack Exchange](https://gis.stackexchange.com/questions/6669/converting-projected-geotiff-to-wgs84-with-gdal-and-python).\n",
      "- Or use other raster libraries, e.g. [rasterio](https://github.com/mapbox/rasterio/blob/master/examples/reproject.py)."
     ]
    },
    {
     "cell_type": "markdown",
     "metadata": {},
     "source": [
      "### Visualise the result\n",
      "\n",
      "Let's see the output of the reprojected NDVI image."
     ]
    },
    {
     "cell_type": "code",
     "collapsed": false,
     "input": [
      "# Notebook magic to select the plotting method\n",
      "# Change to inline to plot within this notebook\n",
      "#%matplotlib inline \n",
      "%matplotlib inline\n",
      "from osgeo import gdal\n",
      "import matplotlib.pyplot as plt"
     ],
     "language": "python",
     "metadata": {},
     "outputs": [],
     "prompt_number": 7
    },
    {
     "cell_type": "code",
     "collapsed": false,
     "input": [
      "# Open image\n",
      "dsll = gdal.Open(\"../data/ndvi_ll.tif\")\n",
      "\n",
      "# Read raster data\n",
      "ndvi = dsll.ReadAsArray(0, 0, dsll.RasterXSize, dsll.RasterYSize)\n",
      "\n",
      "# Now plot the raster data using gist_earth palette\n",
      "plt.imshow(ndvi, interpolation='nearest', vmin=0, cmap=plt.cm.gist_earth)\n",
      "plt.show()\n",
      "\n",
      "dsll = None"
     ],
     "language": "python",
     "metadata": {},
     "outputs": [
      {
       "metadata": {},
       "output_type": "display_data",
       "png": "[encoded data removed]",
       "text": [
        "<matplotlib.figure.Figure at 0x7f85a1caae50>"
       ]
      }
     ],
     "prompt_number": 8
    },
    {
     "cell_type": "markdown",
     "metadata": {},
     "source": [
      "### Check in `R`\n",
      "\n",
      "We can quickly check what we have done with R (go now to your Rstudio, or R terminal) and try the following code:\n",
      "\n",
      "```\n",
      "library(raster)\n",
      "a <- brick('../data/ospy_data5/aster.img')\n",
      "plotRGB(a, 3, 2, 1, stretch='hist')\n",
      "```\n",
      "\n",
      "```\n",
      "b <- raster('../data/ndvi.tif')\n",
      "extent(b)\n",
      "projection(b)\n",
      "hist(b, 1, maxpixels=500, plot=TRUE)\n",
      "```"
     ]
    },
    {
     "cell_type": "markdown",
     "metadata": {},
     "source": [
      "## Exercise: NDWI and reprojection in python\n",
      "\n",
      "For this scripting challenge I have downloaded a Landsat image with all bands process to surface reflectance (Level 1T). You can download it from [here](https://www.dropbox.com/s/zb7nrla6fqi1mq4/LC81980242014260-SC20150123044700.tar.gz?dl=0). Unzip the file and you will see that it contains all the invidual bands. \n",
      "\n",
      "Now, write a well-structured and documented script where you define ***a function to derive the Normalised difference water index (NDWI)*** and derive it from the landsat image and ***reproject the image to Lat/Long WGS84*** (**hint**: use GDAL from *Bash* in your notebook).\n",
      "\n",
      "`NDWI = band 3 - band 5 / band 3 + band 5` ([more info about](http://nsidc.org/data/docs/daac/nsidc0332_smex03_srs_ndvi_ndwi_ok.gd.html) `NDWI`)\n",
      "\n",
      "A clean and well structured script is critical here.\n",
      "\n",
      "*** Submit until 9:30 next morning. ***\n",
      "*** Create an IPython Notebook script, put it on GitHub and post the link on Blackboard!***\n",
      "\n"
     ]
    },
    {
     "cell_type": "markdown",
     "metadata": {
      "collapsed": true
     },
     "source": [
      "## Additional Resources\n",
      "- Chris Holden from Boston University on [handling raster data with GDAL](http://www.gis.usu.edu/~chrisg/python/2009/)\n",
      "- [Blog about Python for GeoSpatial data analysis](http://www.digital-geography.com/python-for-geospatial-data-analysis-part-ii/?subscribe=invalid_email#477)\n",
      "- https://pcjericks.github.io/py-gdalogr-cookbook/raster_layers.html\n",
      "- Great basic tutorial: http://www.gdal.org/gdal_tutorial.html\n",
      "- [GDAL Python info and bindings](http://gdal.org/python/osgeo.gdal_array-module.html#BandReadAsArray)\n",
      "- yet another example https://borealperspectives.wordpress.com/2014/01/16/data-type-mapping-when-using-pythongdal-to-write-numpy-arrays-to-geotiff/\n",
      "- Typical problems with GDAL and python: [PythonGotchas](http://trac.osgeo.org/gdal/wiki/PythonGotchas)\n",
      "* http://www.qgistutorials.com/nl/docs/getting_started_with_pyqgis.html\n",
      "* [QGIS and Python tutorial](http://www.qgisworkshop.org/html/workshop/python_in_qgis_tutorial2.html)\n"
     ]
    },
    {
     "cell_type": "code",
     "collapsed": true,
     "input": [],
     "language": "python",
     "metadata": {},
     "outputs": [],
     "prompt_number": null
    }
   ],
   "metadata": {}
  }
 ]
}
