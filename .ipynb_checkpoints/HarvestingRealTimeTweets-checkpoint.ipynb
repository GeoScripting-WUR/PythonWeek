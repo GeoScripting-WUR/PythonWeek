{
 "cells": [
  {
   "cell_type": "markdown",
   "metadata": {},
   "source": [
    "# Using the Twitter STREAMING API\n",
    "### A basic example\n",
    "\n",
    "In the previous exercise you learned how to harvest tweets already posted by using the REST api. In this exercise we will continue harvesting tweets posted in (semi) real time. It is just a basic example to get your started \n",
    "\n",
    "The lines below you know already from the previous excersise:"
   ]
  },
  {
   "cell_type": "code",
   "execution_count": null,
   "metadata": {},
   "outputs": [],
   "source": [
    "\n",
    "from twython import TwythonStreamer\n",
    "import string, json, pprint\n",
    "import urllib\n",
    "from datetime import datetime\n",
    "from datetime import date\n",
    "from time import *\n",
    "import string, os, sys, subprocess, time\n",
    "import psycopg2\n",
    "\n",
    "# get access to the twitter API\n",
    "APP_KEY =\n",
    "APP_SECRET =\n",
    "OAUTH_TOKEN =\n",
    "OAUTH_TOKEN_SECRET =\n",
    "\n",
    "## just some date and time hack to generate an unique filename if needed\n",
    "output_file = 'result_' + datetime.now().strftime('%Y%m%d-%H%M%S') + '.csv' \n"
   ]
  },
  {
   "cell_type": "markdown",
   "metadata": {},
   "source": [
    "### Setting up a streaming class\n",
    "\n",
    "The new thing is that we are not going to use the `Twython` interface from the library but the `TwythonStreamer` interface. In the code below your see a python class (MyStreamer) which inherits from the TwythonStreamer interface. \n",
    "\n",
    "This class has a number of functions. The main ones are: `on_succes` and `on_error`. The `on_succes` is called when data has been successfully recieved from the stream. The parameter `data` (a dictionary thanks to Twython) contains the tweet which you can parse-out the way you did previously.\n"
   ]
  },
  {
   "cell_type": "code",
   "execution_count": 6,
   "metadata": {},
   "outputs": [],
   "source": [
    "#Class to process JSON data comming from the twitter stream API. Extract relevant fields\n",
    "class MyStreamer(TwythonStreamer):\n",
    "    def on_success(self, data):\n",
    "         tweet_lat = 0.0\n",
    "         tweet_lon = 0.0\n",
    "         tweet_name = \"\"\n",
    "         retweet_count = 0\n",
    "\n",
    "         if 'id' in data:\n",
    "               tweet_id = data['id']\n",
    "         if 'text' in data:\n",
    "               tweet_text = data['text'].encode('utf-8').replace(\"'\",\"''\").replace(';','')\n",
    "         if 'coordinates' in data:    \n",
    "               geo = data['coordinates']\n",
    "               if not geo is None:\n",
    "                    latlon = geo['coordinates']\n",
    "                    tweet_lon = latlon[0]\n",
    "                    tweet_lat= latlon[1]\n",
    "         if 'created_at' in data:\n",
    "                    dt = data['created_at']\n",
    "                    tweet_datetime = datetime.strptime(dt, '%a %b %d %H:%M:%S +0000 %Y')\n",
    "\n",
    "         if 'user' in data:\n",
    "                    users = data['user']\n",
    "                    tweet_name = users['screen_name']\n",
    "\n",
    "         if 'retweet_count' in data:\n",
    "                    retweet_count = data['retweet_count']\n",
    "                    \n",
    "         if tweet_lat != 0:\n",
    "                    #some elementary output to console    \n",
    "                    string_to_write = str(tweet_datetime)+\", \"+str(tweet_lat)+\", \"+str(tweet_lon)+\": \"+str(tweet_text)\n",
    "                    print string_to_write\n",
    "                    #write_tweet(string_to_write)\n",
    "                 \n",
    "    def on_error(self, status_code, data):\n",
    "         print \"OOPS FOUTJE: \" +str(status_code)\n",
    "         #self.disconnect\n"
   ]
  },
  {
   "cell_type": "markdown",
   "metadata": {},
   "source": [
    "### Fiitering the stream\n",
    "\n",
    "Ok. To do it nicely in way of Python; below you see the main procedure where the `MyStreamer` class is instantiated (with all authentication tokens) and next only capture those tweets within a certain bounding box. Have a look at https://twython.readthedocs.org/en/latest/api.html#streaming-interface for more information on what and how to filter the incoming tweet stream\n",
    "\n"
   ]
  },
  {
   "cell_type": "code",
   "execution_count": null,
   "metadata": {
    "collapsed": true
   },
   "outputs": [],
   "source": [
    "##main procedure\n",
    "def main():\n",
    "    try:\n",
    "        stream = MyStreamer(APP_KEY, APP_SECRET,OAUTH_TOKEN, OAUTH_TOKEN_SECRET)\n",
    "        print 'Connecting to twitter: will take a minute'\n",
    "    except ValueError:\n",
    "        print 'OOPS! that hurts, something went wrong while making connection with Twitter: '+str(ValueError)\n",
    "    #global target\n",
    "    \n",
    "    \n",
    "    # Filter based on bounding box see twitter api documentation for more info\n",
    "    try:\n",
    "        stream.statuses.filter(locations='3.00,50.00,7.35,53.65')\n",
    "    except ValueError:\n",
    "        print 'OOPS! that hurts, something went wrong while getting the stream from Twitter: '+str(ValueError)\n",
    "\n",
    "\n",
    "                \n",
    "if __name__ == '__main__':\n",
    "    main()"
   ]
  },
  {
   "cell_type": "markdown",
   "metadata": {},
   "source": [
    "Ok just for granted. A basic function to write tweets to a file but probably you figured that out yourself."
   ]
  },
  {
   "cell_type": "code",
   "execution_count": null,
   "metadata": {
    "collapsed": true
   },
   "outputs": [],
   "source": [
    "    \n",
    "def write_tweet(t):\n",
    "    target = open(output_file, 'a')\n",
    "    target.write(t)\n",
    "    target.write('\\n')\n",
    "    target.close()"
   ]
  },
  {
   "cell_type": "markdown",
   "metadata": {},
   "source": [
    "### Beyond the basics\n",
    "\n",
    "\n",
    "If you are bored and need a challenge, it would be nice not to write to a dull text file but to a real PostGis database. \n",
    "\n",
    "It is installed in OSGEO life (see for a quick start with it: http://live.osgeo.org/en/quickstart/postgis_quickstart.html. The cool thing is that you directly can connect to Qgis and/or do spatial queries etc directly on the database\n",
    "\n",
    "To be able to connect to a PostGIS database you need to import the `psycopg2` library. Below you can see how to make a connection to the database (replace by your own database name etc.). If setting up the connection to the database does not work, have a look at this [psycopg2 tutorial](https://wiki.postgresql.org/wiki/Psycopg2_Tutorial) or this [psycopg2 tutorial with PostreSQL](https://wiki.postgresql.org/wiki/Using_psycopg2_with_PostgreSQL).\n"
   ]
  },
  {
   "cell_type": "code",
   "execution_count": null,
   "metadata": {
    "collapsed": true
   },
   "outputs": [],
   "source": [
    "try:\n",
    "    conn = psycopg2.connect(\"dbname=GISDB user=postgres password=admin\" )\n",
    "    cur = conn.cursor()\n",
    "except DBError:\n",
    "    \"oops error: \"+str(DBError)"
   ]
  },
  {
   "cell_type": "markdown",
   "metadata": {},
   "source": [
    "Once you have a connection and a cursor to the database you can execute all kind of SQL statements such as: "
   ]
  },
  {
   "cell_type": "code",
   "execution_count": null,
   "metadata": {
    "collapsed": true
   },
   "outputs": [],
   "source": [
    "##morgen even nakijken, nog niet goede format\n",
    "\n",
    "cur.execute(\"\"\"insert into whatevertable (tweet_id_field, tweet_text_field ...) \n",
    "            values ('\"\"\"+str(tweet_id)+\"\"\"','\"\"\"+ tweet_text\"\"\"','\"\"\"etc)\"\"\")\n",
    "              "
   ]
  },
  {
   "cell_type": "markdown",
   "metadata": {},
   "source": [
    "Don't forget to close the connection to the database when you don't need it anymore. "
   ]
  }
 ],
 "metadata": {
  "kernelspec": {
   "display_name": "Python 2",
   "language": "python",
   "name": "python2"
  },
  "language_info": {
   "codemirror_mode": {
    "name": "ipython",
    "version": 2
   },
   "file_extension": ".py",
   "mimetype": "text/x-python",
   "name": "python",
   "nbconvert_exporter": "python",
   "pygments_lexer": "ipython2",
   "version": "2.7.11"
  }
 },
 "nbformat": 4,
 "nbformat_minor": 1
}
